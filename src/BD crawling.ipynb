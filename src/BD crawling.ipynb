{
 "cells": [
  {
   "cell_type": "markdown",
   "id": "04bfc82c",
   "metadata": {},
   "source": [
    "Some information about the project:\n",
    "\n",
    "1. Define the problem you dealing with\n",
    "2. Defining the data and which way is best to retrive it\n",
    "3. Analyzing the data you have retrived\n",
    "4. Visualize EDA\n",
    "5. Further data investigation (which algorithems to use)\n",
    "6. Solution implementation"
   ]
  },
  {
   "cell_type": "markdown",
   "id": "bd52067d",
   "metadata": {},
   "source": [
    "The exersice: <br/>\n",
    "Crawl over book deposit website, generate a dataset. <br/>\n",
    "and make a model that can predict rather the book will be best seller or not\n"
   ]
  },
  {
   "cell_type": "code",
   "execution_count": 21,
   "id": "f8c3f43f",
   "metadata": {},
   "outputs": [],
   "source": [
    "# Used for enable to see the result in the notebook\n",
    "%matplotlib inline\n",
    "\n",
    "from bs4 import BeautifulSoup\n",
    "\n",
    "import requests\n",
    "import pandas as pd\n",
    "import time\n",
    "from random import randrange\n",
    "\n",
    "from typing import Final, Any\n",
    "import matplotlib.pyplot as plt\n",
    "import seaborn as sns\n",
    "\n",
    "sns.set()"
   ]
  },
  {
   "cell_type": "markdown",
   "id": "ae53abe4",
   "metadata": {},
   "source": [
    "For this our data source will be `https://www.bookdepository.com`. Let's fetch some data"
   ]
  },
  {
   "cell_type": "markdown",
   "id": "11a26b40",
   "metadata": {},
   "source": [
    "# 1. Fetching all data"
   ]
  },
  {
   "cell_type": "code",
   "execution_count": 22,
   "id": "ee1e6a6e",
   "metadata": {},
   "outputs": [],
   "source": [
    "# Number of pages to crawl each page contain 30 books\n",
    "NUMBER_OF_PAGES: Final[int] = 2\n",
    "URL: Final[str] = 'https://www.bookdepository.com/search?searchLang=<language-id>&page=<page-number>' # Example url: 'https://www.bookdepository.com/search?searchLang=123&page=1'"
   ]
  },
  {
   "cell_type": "code",
   "execution_count": 23,
   "id": "e3d02daf",
   "metadata": {},
   "outputs": [],
   "source": [
    "# TODO: Make this function async\n",
    "\n",
    "# Loading soup object by url address\n",
    "async def get_soup_obj(url: str) -> BeautifulSoup:\n",
    "    try:\n",
    "        r = requests.get(url)\n",
    "    except Exception as ex:\n",
    "        print(f'Failed to request {url}:', ex)\n",
    "        \n",
    "    soupObj = BeautifulSoup(r.content, 'html.parser')\n",
    "    return soupObj"
   ]
  },
  {
   "cell_type": "code",
   "execution_count": 174,
   "id": "84e33ba1",
   "metadata": {},
   "outputs": [],
   "source": [
    "# Extracting features from the given page\n",
    "def getTitle(soupObj: BeautifulSoup) -> str:\n",
    "    title_name_tag: BeautifulSoup = soupObj.find('h1', { 'itemprop': 'name' })\n",
    "    return title_name_tag.text.strip() if title_name_tag is not None else None\n",
    "    \n",
    "def getPagesCount(soupObj: BeautifulSoup) -> int:\n",
    "    pages_count_tag: BeautifulSoup = soupObj.find('span', {'itemprop': 'numberOfPages'})\n",
    "    return int(pages_count_tag.text.strip().replace(' pages', '')) if pages_count_tag is not None else None\n",
    "    \n",
    "def getDatePublished(soupObj: BeautifulSoup) -> str:\n",
    "    date_published: BeautifulSoup = soupObj.find('span', {'itemprop': 'datePublished'})\n",
    "    return date_published.text.strip() if date_published is not None else None\n",
    "    \n",
    "def getCategory(soupObj: BeautifulSoup) -> list[str]:\n",
    "    item_ol: BeautifulSoup = soupObj.find('ol', {'class': 'breadcrumb'})\n",
    "    if item_ol is None:\n",
    "        return None\n",
    "\n",
    "    return { t.text.strip() for t in item_ol('a') }\n",
    "\n",
    "def getBestSellerRank(soupObj: BeautifulSoup) -> int:\n",
    "    biblio_info: BeautifulSoup = soupObj.find('ul', {'class':'biblio-info'})\n",
    "    if biblio_info is None or biblio_info('li') == []:\n",
    "        return None\n",
    "\n",
    "    return int(biblio_info('li')[-1].find('span').text.strip().replace(',', ''))\n",
    "\n",
    "def getRating(soupObj: BeautifulSoup) -> float:\n",
    "    book_rating: BeautifulSoup = soupObj.find('span', {'itemprop': 'ratingValue'})\n",
    "    return float(book_rating.text.strip()) if book_rating is not None else None\n",
    "     \n",
    "def ratingCount(soupObj: BeautifulSoup) -> int:\n",
    "    rating_count: BeautifulSoup = soupObj.find('meta', {'itemprop': 'ratingCount'})\n",
    "    return int(rating_count['content']) if  rating_count is not None else None\n",
    "\n",
    "def getAuthor(soupObj: BeautifulSoup) -> str:\n",
    "    author: BeautifulSoup = soupObj.find('span', {'itemprop': 'name'})\n",
    "    return author.text.strip() if author is not None else None\n",
    "\n",
    "def getBackType(soupObj: BeautifulSoup) -> str:\n",
    "    backtype_ul: BeautifulSoup = soupObj.find('ul',{'class':'meta-info hidden-md'})\n",
    "    return backtype_ul.find('li').text.strip() if backtype_ul is not None else None\n",
    "\n",
    "def getPrice(soupObj: BeautifulSoup) -> float:\n",
    "    book_price: BeautifulSoup = soupObj.find('span', {'class': 'sale-price'})\n",
    "    \n",
    "    #ValueError\n",
    "    if book_price is not None:\n",
    "        try:\n",
    "            return float(book_price.text.strip()[1:]) \n",
    "        except ValueError:\n",
    "            return None\n",
    "    return None\n",
    "    \n",
    "def getUrlOfGoodReads(url: str) -> str:\n",
    "    s: BeautifulSoup = get_soup_obj(url)\n",
    "    \n",
    "    exit_to_goodreads: BeautifulSoup = s.find('a', {'class':'exit-to-goodreads'}) \n",
    "    if exit_to_goodreads is not None:\n",
    "        return 'https://www.goodreads.com/book/show' + exit_to_goodreads['href'].replace('/external/GR','')\n",
    "\n",
    "    return None\n",
    "\n",
    "def extractNumberOfTextReviews(goodreads_url: str):\n",
    "    if not goodreads_url:\n",
    "        return None\n",
    "\n",
    "    # for i in range(10):\n",
    "        # time.sleep(randrange(1, 3))\n",
    "    \n",
    "    # Getting goodreads html content\n",
    "    s: BeautifulSoup = get_soup_obj(goodreads_url)\n",
    "    number_of_text_reviews: BeautifulSoup = s.find('meta', {'itemprop': 'reviewCount'})\n",
    "    \n",
    "        # if number_of_text_reviews:\n",
    "            # break\n",
    "\n",
    "    if not number_of_text_reviews:\n",
    "        return None\n",
    "        \n",
    "    return number_of_text_reviews['content']\n",
    "\n",
    "def get_dimensions(soup_obj: BeautifulSoup) -> list[int]:\n",
    "    dimentions_tag: BeautifulSoup = soup_obj.find('ul', { 'class': 'biblio-info' })\n",
    "    dimensions_span: BeautifulSoup = dimentions_tag.find_all('span')[2]\n",
    "    \n",
    "    return [dimensions_span.get_text().replace(r'/\\D+/g', ',')]\n"
   ]
  },
  {
   "cell_type": "markdown",
   "id": "cc599d00",
   "metadata": {},
   "source": [
    "To manage our data more simply, Let's create some data structure (\"object\" or \"class\") to help us"
   ]
  },
  {
   "cell_type": "code",
   "execution_count": 93,
   "id": "ba4accc6",
   "metadata": {},
   "outputs": [],
   "source": [
    "class Row:\n",
    "    author: str\n",
    "    title: str\n",
    "    page_count: int\n",
    "    date_published: str\n",
    "    category: str\n",
    "    bestsellers_rank: int\n",
    "    rating: float\n",
    "    rating_count: int\n",
    "    back_type: str\n",
    "    ILS_price: float\n",
    "    width: int = 0\n",
    "    height: int\n",
    "    thickness: int\n",
    "    weight: int\n",
    "\n",
    "    def __init__(\n",
    "        self, author: str = None, title: str = None, page_count: int = 0,\n",
    "        date_published: str = None, category: str = None,\n",
    "        bestsellers_rank: int = 0, rating: float = 0, rating_count: int = 0,\n",
    "        back_type: str = None, ILS_price: float = 0, \n",
    "        width: int = 0, height: int = 0, thickness: int = 0, weight: int = 0\n",
    "    ):\n",
    "        self.author = author\n",
    "        self.title: str = title\n",
    "        self.page_count: str = page_count\n",
    "        self.date_published: str = date_published\n",
    "        self.category: str = category\n",
    "        self.bestsellers_rank: str = bestsellers_rank\n",
    "        self.rating: str = rating\n",
    "        self.rating_count: str = rating_count\n",
    "        self.back_type: str = back_type\n",
    "        self.ILS_price: str = ILS_price\n",
    "        self.width: str = width\n",
    "        self.height: str = height\n",
    "        self.thickness: str = thickness\n",
    "        self.weight: str = weight\n",
    "\n",
    "    def to_dict(self) -> dict[str, Any]:\n",
    "        return {\n",
    "            'author': self.author,\n",
    "            'title': self.title,\n",
    "            'page_count': self.page_count,\n",
    "            'date_published': self.date_published,\n",
    "            'category': self.category,\n",
    "            'bestsellers_rank': self.bestsellers_rank,\n",
    "            'rating': self.rating,\n",
    "            'rating_count': self.rating_count,\n",
    "            'back_type': self.back_type,\n",
    "            'ILS_price': self.ILS_price,\n",
    "            'width': self.width,\n",
    "            'height': self.height,\n",
    "            'thickness': self.thickness,\n",
    "            'weight': self.weight\n",
    "        }\n",
    "\n",
    "    @classmethod\n",
    "    def get_cols(self) -> dict[str, list]:\n",
    "        \"\"\"\n",
    "        This funciton will return the columns structure of a row. \n",
    "        Which means, a dictionary with columns names as a key and empty list as a value.\n",
    "        \n",
    "        Definition:\n",
    "        {\n",
    "            [column_name: str]: []\n",
    "        }\n",
    "        \"\"\"\n",
    "        default_dict: dict[str, Any] = Row().to_dict()\n",
    "        for key in default_dict:\n",
    "            default_dict[key] = []\n",
    "\n",
    "        return default_dict\n",
    "        "
   ]
  },
  {
   "cell_type": "code",
   "execution_count": 166,
   "id": "5a1d56df",
   "metadata": {},
   "outputs": [],
   "source": [
    "# Extract properties book by book to a list \n",
    "def get_prop(soupObj: BeautifulSoup) -> Row:\n",
    "    print(get_dimensions(soupObj))\n",
    "    width, height, thickness, weight = get_dimensions(soupObj)\n",
    "\n",
    "    prop: Row = Row(\n",
    "        getAuthor(soupObj), getTitle(soupObj), getPagesCount(soupObj),\n",
    "        getDatePublished(soupObj), getCategory(soupObj), getBestSellerRank(soupObj),\n",
    "        getRating(soupObj), ratingCount(soupObj), getBackType(soupObj), getPrice(soupObj),\n",
    "        # width, height, thickness, weight\n",
    "    )\n",
    "\n",
    "    return prop"
   ]
  },
  {
   "cell_type": "code",
   "execution_count": 167,
   "id": "21552ab2",
   "metadata": {},
   "outputs": [],
   "source": [
    "# Crawl the urls of the books from the main page\n",
    "# page after page\n",
    "def exctractBooksUrls(pages: int) -> list[str]:\n",
    "    books_urls = []\n",
    "    site_domain: str = 'https://www.bookdepository.com'\n",
    "\n",
    "    for i in range(pages):\n",
    "        url: str = f'{site_domain}/search?searchLang=123&page={i + 1}'\n",
    "        print('page number', i + 1, url)\n",
    "\n",
    "        currentPage: BeautifulSoup = get_soup_obj(url)\n",
    "        items = currentPage('div', {'class': 'book-item'})\n",
    "        \n",
    "        for book in items:\n",
    "            book_url = book.find('h3').find('a')['href']\n",
    "            books_urls.append(f'{site_domain}{book_url}')    \n",
    "\n",
    "    return books_urls\n",
    "    "
   ]
  },
  {
   "cell_type": "code",
   "execution_count": 96,
   "id": "687c9512",
   "metadata": {},
   "outputs": [],
   "source": [
    "def buildDictForDataFrame(booksUrls: list[str]) -> dict[str, list]:\n",
    "    df_dict: dict[str, list] = Row.get_cols()\n",
    "\n",
    "    counter: int = 0\n",
    "    for url in booksUrls:\n",
    "        counter += 1\n",
    "        print('book number', counter)\n",
    "\n",
    "        book_soup = get_soup_obj(url)\n",
    "        book: dict[str, Any] = get_prop(book_soup).to_dict()\n",
    "        \n",
    "        for key in book:\n",
    "            df_dict[key].append(book[key])\n",
    "            \n",
    "    return df_dict"
   ]
  },
  {
   "cell_type": "code",
   "execution_count": 34,
   "id": "7a91a7b9",
   "metadata": {},
   "outputs": [],
   "source": [
    "def getUrlOfGoodReads(url: str):\n",
    "    s: BeautifulSoup = get_soup_obj(url)\n",
    "    exit_to_goodreads = s.find('a', {'class':'exit-to-goodreads'}) \n",
    "\n",
    "    if exit_to_goodreads is not None:\n",
    "        return 'https://www.goodreads.com/book/show' + exit_to_goodreads['href'].replace('/external/GR','')\n",
    "    \n",
    "    return None"
   ]
  },
  {
   "cell_type": "code",
   "execution_count": 35,
   "id": "623996a0",
   "metadata": {},
   "outputs": [],
   "source": [
    "# def extractNumberOfTextReviews(url: str):\n",
    "#     found: bool = True\n",
    "#     if not url:\n",
    "#         return None\n",
    "\n",
    "#     for i in range(10):\n",
    "#         s: BeautifulSoup = get_soup_obj(url)\n",
    "#         number_of_text_reviews = s.find('meta', {'itemprop': 'reviewCount'})\n",
    "#         if number_of_text_reviews:\n",
    "#             break\n",
    "\n",
    "#     if not number_of_text_reviews:\n",
    "#         return None\n",
    "        \n",
    "#     return number_of_text_reviews['content']\n"
   ]
  },
  {
   "cell_type": "code",
   "execution_count": 99,
   "id": "5fd02aa3",
   "metadata": {},
   "outputs": [],
   "source": [
    "def buildListOfUrl(path: str):\n",
    "    l = []\n",
    "\n",
    "    with open(path, 'r') as f:\n",
    "        l = f.read().split('\\n')\n",
    "        \n",
    "    return l"
   ]
  },
  {
   "cell_type": "code",
   "execution_count": 37,
   "id": "576043a1",
   "metadata": {},
   "outputs": [],
   "source": [
    "def load_csv(path: str) -> None:\n",
    "    return pd.read_csv(path)"
   ]
  },
  {
   "cell_type": "code",
   "execution_count": 100,
   "id": "bc8ed5fb",
   "metadata": {},
   "outputs": [
    {
     "name": "stdout",
     "output_type": "stream",
     "text": [
      "page number 1 https://www.bookdepository.com/search?searchLang=123&page=1\n",
      "page number 2 https://www.bookdepository.com/search?searchLang=123&page=2\n",
      "page number 3 https://www.bookdepository.com/search?searchLang=123&page=3\n"
     ]
    }
   ],
   "source": [
    "books_urls = exctractBooksUrls(3)"
   ]
  },
  {
   "cell_type": "code",
   "execution_count": 175,
   "id": "21dcbd74",
   "metadata": {},
   "outputs": [
    {
     "name": "stdout",
     "output_type": "stream",
     "text": [
      "book number 1\n",
      "['\\n                                130\\n                                    x 198\\n                                    x 27mm\\n                                \\n                                    | 270g\\n                                ']\n"
     ]
    },
    {
     "ename": "ValueError",
     "evalue": "not enough values to unpack (expected 4, got 1)",
     "output_type": "error",
     "traceback": [
      "\u001b[1;31m---------------------------------------------------------------------------\u001b[0m",
      "\u001b[1;31mValueError\u001b[0m                                Traceback (most recent call last)",
      "\u001b[1;32m~\\AppData\\Local\\Temp/ipykernel_13876/4188912492.py\u001b[0m in \u001b[0;36m<module>\u001b[1;34m\u001b[0m\n\u001b[1;32m----> 1\u001b[1;33m \u001b[0mdf_dict\u001b[0m\u001b[1;33m:\u001b[0m \u001b[0mdict\u001b[0m\u001b[1;33m[\u001b[0m\u001b[0mstr\u001b[0m\u001b[1;33m,\u001b[0m \u001b[0mAny\u001b[0m\u001b[1;33m]\u001b[0m \u001b[1;33m=\u001b[0m \u001b[0mbuildDictForDataFrame\u001b[0m\u001b[1;33m(\u001b[0m\u001b[0mbooks_urls\u001b[0m\u001b[1;33m)\u001b[0m\u001b[1;33m\u001b[0m\u001b[1;33m\u001b[0m\u001b[0m\n\u001b[0m\u001b[0;32m      2\u001b[0m \u001b[0mprint\u001b[0m\u001b[1;33m(\u001b[0m\u001b[0mdf_dict\u001b[0m\u001b[1;33m.\u001b[0m\u001b[0mkeys\u001b[0m\u001b[1;33m(\u001b[0m\u001b[1;33m)\u001b[0m\u001b[1;33m)\u001b[0m\u001b[1;33m\u001b[0m\u001b[1;33m\u001b[0m\u001b[0m\n",
      "\u001b[1;32m~\\AppData\\Local\\Temp/ipykernel_13876/1121278832.py\u001b[0m in \u001b[0;36mbuildDictForDataFrame\u001b[1;34m(booksUrls)\u001b[0m\n\u001b[0;32m      8\u001b[0m \u001b[1;33m\u001b[0m\u001b[0m\n\u001b[0;32m      9\u001b[0m         \u001b[0mbook_soup\u001b[0m \u001b[1;33m=\u001b[0m \u001b[0mget_soup_obj\u001b[0m\u001b[1;33m(\u001b[0m\u001b[0murl\u001b[0m\u001b[1;33m)\u001b[0m\u001b[1;33m\u001b[0m\u001b[1;33m\u001b[0m\u001b[0m\n\u001b[1;32m---> 10\u001b[1;33m         \u001b[0mbook\u001b[0m\u001b[1;33m:\u001b[0m \u001b[0mdict\u001b[0m\u001b[1;33m[\u001b[0m\u001b[0mstr\u001b[0m\u001b[1;33m,\u001b[0m \u001b[0mAny\u001b[0m\u001b[1;33m]\u001b[0m \u001b[1;33m=\u001b[0m \u001b[0mget_prop\u001b[0m\u001b[1;33m(\u001b[0m\u001b[0mbook_soup\u001b[0m\u001b[1;33m)\u001b[0m\u001b[1;33m.\u001b[0m\u001b[0mto_dict\u001b[0m\u001b[1;33m(\u001b[0m\u001b[1;33m)\u001b[0m\u001b[1;33m\u001b[0m\u001b[1;33m\u001b[0m\u001b[0m\n\u001b[0m\u001b[0;32m     11\u001b[0m \u001b[1;33m\u001b[0m\u001b[0m\n\u001b[0;32m     12\u001b[0m         \u001b[1;32mfor\u001b[0m \u001b[0mkey\u001b[0m \u001b[1;32min\u001b[0m \u001b[0mbook\u001b[0m\u001b[1;33m:\u001b[0m\u001b[1;33m\u001b[0m\u001b[1;33m\u001b[0m\u001b[0m\n",
      "\u001b[1;32m~\\AppData\\Local\\Temp/ipykernel_13876/427746586.py\u001b[0m in \u001b[0;36mget_prop\u001b[1;34m(soupObj)\u001b[0m\n\u001b[0;32m      2\u001b[0m \u001b[1;32mdef\u001b[0m \u001b[0mget_prop\u001b[0m\u001b[1;33m(\u001b[0m\u001b[0msoupObj\u001b[0m\u001b[1;33m:\u001b[0m \u001b[0mBeautifulSoup\u001b[0m\u001b[1;33m)\u001b[0m \u001b[1;33m->\u001b[0m \u001b[0mRow\u001b[0m\u001b[1;33m:\u001b[0m\u001b[1;33m\u001b[0m\u001b[1;33m\u001b[0m\u001b[0m\n\u001b[0;32m      3\u001b[0m     \u001b[0mprint\u001b[0m\u001b[1;33m(\u001b[0m\u001b[0mget_dimensions\u001b[0m\u001b[1;33m(\u001b[0m\u001b[0msoupObj\u001b[0m\u001b[1;33m)\u001b[0m\u001b[1;33m)\u001b[0m\u001b[1;33m\u001b[0m\u001b[1;33m\u001b[0m\u001b[0m\n\u001b[1;32m----> 4\u001b[1;33m     \u001b[0mwidth\u001b[0m\u001b[1;33m,\u001b[0m \u001b[0mheight\u001b[0m\u001b[1;33m,\u001b[0m \u001b[0mthickness\u001b[0m\u001b[1;33m,\u001b[0m \u001b[0mweight\u001b[0m \u001b[1;33m=\u001b[0m \u001b[0mget_dimensions\u001b[0m\u001b[1;33m(\u001b[0m\u001b[0msoupObj\u001b[0m\u001b[1;33m)\u001b[0m\u001b[1;33m\u001b[0m\u001b[1;33m\u001b[0m\u001b[0m\n\u001b[0m\u001b[0;32m      5\u001b[0m \u001b[1;33m\u001b[0m\u001b[0m\n\u001b[0;32m      6\u001b[0m     prop: Row = Row(\n",
      "\u001b[1;31mValueError\u001b[0m: not enough values to unpack (expected 4, got 1)"
     ]
    }
   ],
   "source": [
    "df_dict: dict[str, Any] = buildDictForDataFrame(books_urls)\n",
    "print(df_dict.keys())"
   ]
  },
  {
   "cell_type": "code",
   "execution_count": 40,
   "id": "3d90662f",
   "metadata": {},
   "outputs": [
    {
     "name": "stdout",
     "output_type": "stream",
     "text": [
      "good reads 1\n",
      "good reads 2\n",
      "good reads 3\n",
      "good reads 4\n",
      "good reads 5\n",
      "good reads 6\n",
      "good reads 7\n",
      "good reads 8\n",
      "good reads 9\n",
      "good reads 10\n",
      "good reads 11\n",
      "good reads 12\n",
      "good reads 13\n",
      "good reads 14\n",
      "good reads 15\n",
      "good reads 16\n",
      "good reads 17\n",
      "good reads 18\n",
      "good reads 19\n",
      "good reads 20\n",
      "good reads 21\n",
      "good reads 22\n",
      "good reads 23\n",
      "good reads 24\n",
      "good reads 25\n",
      "good reads 26\n",
      "good reads 27\n",
      "good reads 28\n",
      "good reads 29\n",
      "good reads 30\n",
      "good reads 31\n",
      "good reads 32\n",
      "good reads 33\n",
      "good reads 34\n",
      "good reads 35\n",
      "good reads 36\n",
      "good reads 37\n",
      "good reads 38\n",
      "good reads 39\n",
      "good reads 40\n",
      "good reads 41\n",
      "good reads 42\n",
      "good reads 43\n",
      "good reads 44\n",
      "good reads 45\n",
      "good reads 46\n",
      "good reads 47\n",
      "good reads 48\n",
      "good reads 49\n",
      "good reads 50\n",
      "good reads 51\n",
      "good reads 52\n",
      "good reads 53\n",
      "good reads 54\n",
      "good reads 55\n",
      "good reads 56\n",
      "good reads 57\n",
      "good reads 58\n",
      "good reads 59\n",
      "good reads 60\n"
     ]
    }
   ],
   "source": [
    "ctr: int = 1\n",
    "for url in books_urls:\n",
    "    print('good reads', ctr)\n",
    "    ctr += 1\n",
    "    \n",
    "    gr_url = getUrlOfGoodReads(url)\n",
    "    df_dict['text-reviews-count'].append(extractNumberOfTextReviews(gr_url))"
   ]
  },
  {
   "cell_type": "code",
   "execution_count": 41,
   "id": "1624ee35",
   "metadata": {},
   "outputs": [],
   "source": [
    "df = pd.DataFrame(df_dict)"
   ]
  },
  {
   "cell_type": "code",
   "execution_count": 42,
   "id": "578b6308",
   "metadata": {},
   "outputs": [
    {
     "data": {
      "text/html": [
       "<div>\n",
       "<style scoped>\n",
       "    .dataframe tbody tr th:only-of-type {\n",
       "        vertical-align: middle;\n",
       "    }\n",
       "\n",
       "    .dataframe tbody tr th {\n",
       "        vertical-align: top;\n",
       "    }\n",
       "\n",
       "    .dataframe thead th {\n",
       "        text-align: right;\n",
       "    }\n",
       "</style>\n",
       "<table border=\"1\" class=\"dataframe\">\n",
       "  <thead>\n",
       "    <tr style=\"text-align: right;\">\n",
       "      <th></th>\n",
       "      <th>title</th>\n",
       "      <th>pages-count</th>\n",
       "      <th>date-published</th>\n",
       "      <th>category</th>\n",
       "      <th>bestsellers-rank</th>\n",
       "      <th>rating</th>\n",
       "      <th>rating-count</th>\n",
       "      <th>text-reviews-count</th>\n",
       "      <th>author</th>\n",
       "      <th>back-type</th>\n",
       "      <th>price-ILS</th>\n",
       "    </tr>\n",
       "  </thead>\n",
       "  <tbody>\n",
       "    <tr>\n",
       "      <th>0</th>\n",
       "      <td>It Ends With Us: The most heartbreaking novel ...</td>\n",
       "      <td>384</td>\n",
       "      <td>02 Aug 2016</td>\n",
       "      <td>{Romance, Family &amp; Relationships, Safety In Th...</td>\n",
       "      <td>2</td>\n",
       "      <td>4.43</td>\n",
       "      <td>573274</td>\n",
       "      <td>65345</td>\n",
       "      <td>Colleen Hoover</td>\n",
       "      <td>Paperback</td>\n",
       "      <td>46.55</td>\n",
       "    </tr>\n",
       "    <tr>\n",
       "      <th>1</th>\n",
       "      <td>Sapiens : A Brief History of Humankind</td>\n",
       "      <td>512</td>\n",
       "      <td>01 May 2015</td>\n",
       "      <td>{Early Man, Social &amp; Cultural History, History...</td>\n",
       "      <td>72</td>\n",
       "      <td>4.39</td>\n",
       "      <td>705951</td>\n",
       "      <td>42404</td>\n",
       "      <td>Yuval Noah Harari</td>\n",
       "      <td>Paperback</td>\n",
       "      <td>62.48</td>\n",
       "    </tr>\n",
       "    <tr>\n",
       "      <th>2</th>\n",
       "      <td>Dear Zoo : A Lift-the-flap Book</td>\n",
       "      <td>18</td>\n",
       "      <td>08 May 2007</td>\n",
       "      <td>{Baby Books, Animal Stories}</td>\n",
       "      <td>184</td>\n",
       "      <td>4.28</td>\n",
       "      <td>23550</td>\n",
       "      <td>692</td>\n",
       "      <td>Rod Campbell</td>\n",
       "      <td>Board book</td>\n",
       "      <td>39.73</td>\n",
       "    </tr>\n",
       "    <tr>\n",
       "      <th>3</th>\n",
       "      <td>The Barefoot Investor : The Only Money Guide Y...</td>\n",
       "      <td>296</td>\n",
       "      <td>01 Jul 2018</td>\n",
       "      <td>{Personal Finance, Investment &amp; Securities, Fi...</td>\n",
       "      <td>7383</td>\n",
       "      <td>4.42</td>\n",
       "      <td>14836</td>\n",
       "      <td>1276</td>\n",
       "      <td>Scott Pape</td>\n",
       "      <td>Paperback</td>\n",
       "      <td>76.60</td>\n",
       "    </tr>\n",
       "    <tr>\n",
       "      <th>4</th>\n",
       "      <td>Milk and Honey</td>\n",
       "      <td>208</td>\n",
       "      <td>08 Jul 2016</td>\n",
       "      <td>{Poetry By Individual Poets, Mind, Body &amp; Spir...</td>\n",
       "      <td>291</td>\n",
       "      <td>4.03</td>\n",
       "      <td>469183</td>\n",
       "      <td>33454</td>\n",
       "      <td>Rupi Kaur</td>\n",
       "      <td>Paperback</td>\n",
       "      <td>53.20</td>\n",
       "    </tr>\n",
       "  </tbody>\n",
       "</table>\n",
       "</div>"
      ],
      "text/plain": [
       "                                               title  pages-count  \\\n",
       "0  It Ends With Us: The most heartbreaking novel ...          384   \n",
       "1             Sapiens : A Brief History of Humankind          512   \n",
       "2                    Dear Zoo : A Lift-the-flap Book           18   \n",
       "3  The Barefoot Investor : The Only Money Guide Y...          296   \n",
       "4                                     Milk and Honey          208   \n",
       "\n",
       "  date-published                                           category  \\\n",
       "0    02 Aug 2016  {Romance, Family & Relationships, Safety In Th...   \n",
       "1    01 May 2015  {Early Man, Social & Cultural History, History...   \n",
       "2    08 May 2007                       {Baby Books, Animal Stories}   \n",
       "3    01 Jul 2018  {Personal Finance, Investment & Securities, Fi...   \n",
       "4    08 Jul 2016  {Poetry By Individual Poets, Mind, Body & Spir...   \n",
       "\n",
       "   bestsellers-rank  rating  rating-count text-reviews-count  \\\n",
       "0                 2    4.43        573274              65345   \n",
       "1                72    4.39        705951              42404   \n",
       "2               184    4.28         23550                692   \n",
       "3              7383    4.42         14836               1276   \n",
       "4               291    4.03        469183              33454   \n",
       "\n",
       "              author   back-type  price-ILS  \n",
       "0     Colleen Hoover   Paperback      46.55  \n",
       "1  Yuval Noah Harari   Paperback      62.48  \n",
       "2       Rod Campbell  Board book      39.73  \n",
       "3         Scott Pape   Paperback      76.60  \n",
       "4          Rupi Kaur   Paperback      53.20  "
      ]
     },
     "execution_count": 42,
     "metadata": {},
     "output_type": "execute_result"
    }
   ],
   "source": [
    "df.head()"
   ]
  },
  {
   "cell_type": "markdown",
   "id": "6ce9e0d4",
   "metadata": {},
   "source": [
    "Good work, now let's save this for further investigation"
   ]
  },
  {
   "cell_type": "code",
   "execution_count": 50,
   "id": "22c735d1",
   "metadata": {},
   "outputs": [],
   "source": [
    "df.to_csv('../data/book_deposits.csv', index=False)"
   ]
  },
  {
   "cell_type": "markdown",
   "id": "2f4cf708",
   "metadata": {},
   "source": [
    "# 2. Visuallizing the data"
   ]
  },
  {
   "cell_type": "markdown",
   "id": "9d299577",
   "metadata": {},
   "source": [
    "First thing let's see what we are dealing with"
   ]
  },
  {
   "cell_type": "code",
   "execution_count": 51,
   "id": "8e8cd92a",
   "metadata": {},
   "outputs": [
    {
     "data": {
      "text/html": [
       "<div>\n",
       "<style scoped>\n",
       "    .dataframe tbody tr th:only-of-type {\n",
       "        vertical-align: middle;\n",
       "    }\n",
       "\n",
       "    .dataframe tbody tr th {\n",
       "        vertical-align: top;\n",
       "    }\n",
       "\n",
       "    .dataframe thead th {\n",
       "        text-align: right;\n",
       "    }\n",
       "</style>\n",
       "<table border=\"1\" class=\"dataframe\">\n",
       "  <thead>\n",
       "    <tr style=\"text-align: right;\">\n",
       "      <th></th>\n",
       "      <th>title</th>\n",
       "      <th>pages-count</th>\n",
       "      <th>date-published</th>\n",
       "      <th>category</th>\n",
       "      <th>bestsellers-rank</th>\n",
       "      <th>rating</th>\n",
       "      <th>rating-count</th>\n",
       "      <th>text-reviews-count</th>\n",
       "      <th>author</th>\n",
       "      <th>back-type</th>\n",
       "      <th>price-ILS</th>\n",
       "    </tr>\n",
       "  </thead>\n",
       "  <tbody>\n",
       "    <tr>\n",
       "      <th>0</th>\n",
       "      <td>It Ends With Us: The most heartbreaking novel ...</td>\n",
       "      <td>384</td>\n",
       "      <td>02 Aug 2016</td>\n",
       "      <td>{'Romance', 'Family &amp; Relationships', 'Safety ...</td>\n",
       "      <td>2</td>\n",
       "      <td>4.43</td>\n",
       "      <td>573274</td>\n",
       "      <td>65345</td>\n",
       "      <td>Colleen Hoover</td>\n",
       "      <td>Paperback</td>\n",
       "      <td>46.55</td>\n",
       "    </tr>\n",
       "    <tr>\n",
       "      <th>1</th>\n",
       "      <td>Sapiens : A Brief History of Humankind</td>\n",
       "      <td>512</td>\n",
       "      <td>01 May 2015</td>\n",
       "      <td>{'Early Man', 'Social &amp; Cultural History', 'Hi...</td>\n",
       "      <td>72</td>\n",
       "      <td>4.39</td>\n",
       "      <td>705951</td>\n",
       "      <td>42404</td>\n",
       "      <td>Yuval Noah Harari</td>\n",
       "      <td>Paperback</td>\n",
       "      <td>62.48</td>\n",
       "    </tr>\n",
       "    <tr>\n",
       "      <th>2</th>\n",
       "      <td>Dear Zoo : A Lift-the-flap Book</td>\n",
       "      <td>18</td>\n",
       "      <td>08 May 2007</td>\n",
       "      <td>{'Baby Books', 'Animal Stories'}</td>\n",
       "      <td>184</td>\n",
       "      <td>4.28</td>\n",
       "      <td>23550</td>\n",
       "      <td>692</td>\n",
       "      <td>Rod Campbell</td>\n",
       "      <td>Board book</td>\n",
       "      <td>39.73</td>\n",
       "    </tr>\n",
       "    <tr>\n",
       "      <th>3</th>\n",
       "      <td>The Barefoot Investor : The Only Money Guide Y...</td>\n",
       "      <td>296</td>\n",
       "      <td>01 Jul 2018</td>\n",
       "      <td>{'Personal Finance', 'Investment &amp; Securities'...</td>\n",
       "      <td>7383</td>\n",
       "      <td>4.42</td>\n",
       "      <td>14836</td>\n",
       "      <td>1276</td>\n",
       "      <td>Scott Pape</td>\n",
       "      <td>Paperback</td>\n",
       "      <td>76.60</td>\n",
       "    </tr>\n",
       "    <tr>\n",
       "      <th>4</th>\n",
       "      <td>Milk and Honey</td>\n",
       "      <td>208</td>\n",
       "      <td>08 Jul 2016</td>\n",
       "      <td>{'Poetry By Individual Poets', 'Mind, Body &amp; S...</td>\n",
       "      <td>291</td>\n",
       "      <td>4.03</td>\n",
       "      <td>469183</td>\n",
       "      <td>33454</td>\n",
       "      <td>Rupi Kaur</td>\n",
       "      <td>Paperback</td>\n",
       "      <td>53.20</td>\n",
       "    </tr>\n",
       "  </tbody>\n",
       "</table>\n",
       "</div>"
      ],
      "text/plain": [
       "                                               title  pages-count  \\\n",
       "0  It Ends With Us: The most heartbreaking novel ...          384   \n",
       "1             Sapiens : A Brief History of Humankind          512   \n",
       "2                    Dear Zoo : A Lift-the-flap Book           18   \n",
       "3  The Barefoot Investor : The Only Money Guide Y...          296   \n",
       "4                                     Milk and Honey          208   \n",
       "\n",
       "  date-published                                           category  \\\n",
       "0    02 Aug 2016  {'Romance', 'Family & Relationships', 'Safety ...   \n",
       "1    01 May 2015  {'Early Man', 'Social & Cultural History', 'Hi...   \n",
       "2    08 May 2007                   {'Baby Books', 'Animal Stories'}   \n",
       "3    01 Jul 2018  {'Personal Finance', 'Investment & Securities'...   \n",
       "4    08 Jul 2016  {'Poetry By Individual Poets', 'Mind, Body & S...   \n",
       "\n",
       "   bestsellers-rank  rating  rating-count  text-reviews-count  \\\n",
       "0                 2    4.43        573274               65345   \n",
       "1                72    4.39        705951               42404   \n",
       "2               184    4.28         23550                 692   \n",
       "3              7383    4.42         14836                1276   \n",
       "4               291    4.03        469183               33454   \n",
       "\n",
       "              author   back-type  price-ILS  \n",
       "0     Colleen Hoover   Paperback      46.55  \n",
       "1  Yuval Noah Harari   Paperback      62.48  \n",
       "2       Rod Campbell  Board book      39.73  \n",
       "3         Scott Pape   Paperback      76.60  \n",
       "4          Rupi Kaur   Paperback      53.20  "
      ]
     },
     "execution_count": 51,
     "metadata": {},
     "output_type": "execute_result"
    }
   ],
   "source": [
    "df = pd.read_csv('../data/book_deposits.csv')\n",
    "df.head()"
   ]
  },
  {
   "cell_type": "markdown",
   "id": "cc35fa86",
   "metadata": {},
   "source": [
    "How much types of `back-type` we have in this dataset?"
   ]
  },
  {
   "cell_type": "code",
   "execution_count": 8,
   "id": "48f17114",
   "metadata": {},
   "outputs": [
    {
     "data": {
      "text/plain": [
       "<AxesSubplot:xlabel='back-type', ylabel='count'>"
      ]
     },
     "execution_count": 8,
     "metadata": {},
     "output_type": "execute_result"
    },
    {
     "data": {
      "image/png": "[encoded data removed]",
      "text/plain": [
       "<Figure size 432x288 with 1 Axes>"
      ]
     },
     "metadata": {
      "needs_background": "light"
     },
     "output_type": "display_data"
    }
   ],
   "source": [
    "sns.countplot(x=df['back-type'])"
   ]
  },
  {
   "cell_type": "markdown",
   "id": "dc2a040d",
   "metadata": {},
   "source": [
    "Does we have a correlation between the price and the pages in the book?"
   ]
  },
  {
   "cell_type": "code",
   "execution_count": 12,
   "id": "6b696dc1",
   "metadata": {},
   "outputs": [
    {
     "data": {
      "text/plain": [
       "<BarContainer object of 60 artists>"
      ]
     },
     "execution_count": 12,
     "metadata": {},
     "output_type": "execute_result"
    },
    {
     "data": {
      "image/png": "[encoded data removed]",
      "text/plain": [
       "<Figure size 432x288 with 1 Axes>"
      ]
     },
     "metadata": {
      "needs_background": "light"
     },
     "output_type": "display_data"
    }
   ],
   "source": [
    "plt.bar(x=df['price-ILS'], height=df['pages-count'])"
   ]
  },
  {
   "cell_type": "code",
   "execution_count": 20,
   "id": "7d71fa61",
   "metadata": {},
   "outputs": [
    {
     "data": {
      "text/plain": [
       "<AxesSubplot:xlabel='category', ylabel='count'>"
      ]
     },
     "execution_count": 20,
     "metadata": {},
     "output_type": "execute_result"
    },
    {
     "data": {
      "image/png": "[encoded data removed]",
      "text/plain": [
       "<Figure size 432x288 with 1 Axes>"
      ]
     },
     "metadata": {},
     "output_type": "display_data"
    }
   ],
   "source": [
    "sns.countplot(x=df['category'])"
   ]
  },
  {
   "cell_type": "markdown",
   "id": "2507b77a",
   "metadata": {},
   "source": [
    "Let's check for duplicates"
   ]
  },
  {
   "cell_type": "code",
   "execution_count": 13,
   "id": "02cc29b4",
   "metadata": {},
   "outputs": [
    {
     "name": "stdout",
     "output_type": "stream",
     "text": [
      "<class 'pandas.core.frame.DataFrame'>\n",
      "RangeIndex: 60 entries, 0 to 59\n",
      "Data columns (total 12 columns):\n",
      " #   Column              Non-Null Count  Dtype  \n",
      "---  ------              --------------  -----  \n",
      " 0   Unnamed: 0          60 non-null     int64  \n",
      " 1   title               60 non-null     object \n",
      " 2   pages-count         60 non-null     int64  \n",
      " 3   date-published      60 non-null     object \n",
      " 4   category            60 non-null     object \n",
      " 5   bestsellers-rank    60 non-null     int64  \n",
      " 6   rating              60 non-null     float64\n",
      " 7   rating-count        60 non-null     int64  \n",
      " 8   text-reviews-count  60 non-null     int64  \n",
      " 9   author              60 non-null     object \n",
      " 10  back-type           60 non-null     object \n",
      " 11  price-ILS           59 non-null     float64\n",
      "dtypes: float64(2), int64(5), object(5)\n",
      "memory usage: 5.8+ KB\n"
     ]
    }
   ],
   "source": [
    "df.info()"
   ]
  },
  {
   "cell_type": "code",
   "execution_count": 17,
   "id": "aa856505",
   "metadata": {},
   "outputs": [
    {
     "data": {
      "text/html": [
       "<div>\n",
       "<style scoped>\n",
       "    .dataframe tbody tr th:only-of-type {\n",
       "        vertical-align: middle;\n",
       "    }\n",
       "\n",
       "    .dataframe tbody tr th {\n",
       "        vertical-align: top;\n",
       "    }\n",
       "\n",
       "    .dataframe thead th {\n",
       "        text-align: right;\n",
       "    }\n",
       "</style>\n",
       "<table border=\"1\" class=\"dataframe\">\n",
       "  <thead>\n",
       "    <tr style=\"text-align: right;\">\n",
       "      <th></th>\n",
       "      <th>Unnamed: 0</th>\n",
       "      <th>title</th>\n",
       "      <th>pages-count</th>\n",
       "      <th>date-published</th>\n",
       "      <th>category</th>\n",
       "      <th>bestsellers-rank</th>\n",
       "      <th>rating</th>\n",
       "      <th>rating-count</th>\n",
       "      <th>text-reviews-count</th>\n",
       "      <th>author</th>\n",
       "      <th>back-type</th>\n",
       "      <th>price-ILS</th>\n",
       "    </tr>\n",
       "  </thead>\n",
       "  <tbody>\n",
       "  </tbody>\n",
       "</table>\n",
       "</div>"
      ],
      "text/plain": [
       "Empty DataFrame\n",
       "Columns: [Unnamed: 0, title, pages-count, date-published, category, bestsellers-rank, rating, rating-count, text-reviews-count, author, back-type, price-ILS]\n",
       "Index: []"
      ]
     },
     "execution_count": 17,
     "metadata": {},
     "output_type": "execute_result"
    }
   ],
   "source": [
    "titles = df[\"\"]\n",
    "df[titles.isin(titles[titles.duplicated()])]"
   ]
  }
 ],
 "metadata": {
  "kernelspec": {
   "display_name": "Python 3 (ipykernel)",
   "language": "python",
   "name": "python3"
  },
  "language_info": {
   "codemirror_mode": {
    "name": "ipython",
    "version": 3
   },
   "file_extension": ".py",
   "mimetype": "text/x-python",
   "name": "python",
   "nbconvert_exporter": "python",
   "pygments_lexer": "ipython3",
   "version": "3.9.9"
  }
 },
 "nbformat": 4,
 "nbformat_minor": 5
}
